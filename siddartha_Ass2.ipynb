{
  "nbformat": 4,
  "nbformat_minor": 0,
  "metadata": {
    "colab": {
      "provenance": []
    },
    "kernelspec": {
      "name": "python3",
      "display_name": "Python 3"
    },
    "language_info": {
      "name": "python"
    }
  },
  "cells": [
    {
      "cell_type": "code",
      "execution_count": 4,
      "metadata": {
        "colab": {
          "base_uri": "https://localhost:8080/"
        },
        "id": "F6PjKb3q9xwd",
        "outputId": "c0f93ec0-0e1c-4403-8d3c-92ec998f7d6e"
      },
      "outputs": [
        {
          "output_type": "stream",
          "name": "stdout",
          "text": [
            "* \n",
            "* * \n",
            "* * * \n",
            "* * * * \n",
            "* * * * * \n",
            "* * * * \n",
            "* * * \n",
            "* * \n",
            "* \n"
          ]
        }
      ],
      "source": [
        "#Use a python code to display the following star pattern using the for loop\n",
        "\n",
        "rows = 5\n",
        "for i in range(1, rows + 1):\n",
        "    print('* ' * i)\n",
        "for i in range(rows - 1, 0, -1):\n",
        "    print('* ' * i)"
      ]
    },
    {
      "cell_type": "code",
      "source": [
        "#Use looping to output the elements from a provided list present at odd indexes. my_list = [10, 20, 30, 40, 50, 60, 70, 80, 90, 100]\n",
        "\n",
        "my_list = [10, 20, 30, 40, 50, 60, 70, 80, 90, 100]\n",
        "for i in range(1, len(my_list), 2):\n",
        "    print(my_list[i])\n"
      ],
      "metadata": {
        "colab": {
          "base_uri": "https://localhost:8080/"
        },
        "id": "8ucMayqx-nvo",
        "outputId": "dd782b3a-bdb5-46c4-b17f-929f7ebd6cff"
      },
      "execution_count": 5,
      "outputs": [
        {
          "output_type": "stream",
          "name": "stdout",
          "text": [
            "20\n",
            "40\n",
            "60\n",
            "80\n",
            "100\n"
          ]
        }
      ]
    },
    {
      "cell_type": "code",
      "source": [
        "#Write a code that appends the type of elements from a given list. Input x = [23, ‘Python’, 23.98] Expected output [23, 'Python', 23.98] [<class 'int'>, <class 'str'>, <class 'float'>]\n",
        "\n",
        "x = [23, 'Python', 23.98]\n",
        "types_list = []\n",
        "\n",
        "for element in x:\n",
        "    types_list.append(type(element))\n",
        "\n",
        "print(x)\n",
        "print(types_list)"
      ],
      "metadata": {
        "colab": {
          "base_uri": "https://localhost:8080/"
        },
        "id": "ox5c6Ctp_Gpg",
        "outputId": "92dd534f-90b2-4091-d3f3-218a218a1d0f"
      },
      "execution_count": 6,
      "outputs": [
        {
          "output_type": "stream",
          "name": "stdout",
          "text": [
            "[23, 'Python', 23.98]\n",
            "[<class 'int'>, <class 'str'>, <class 'float'>]\n"
          ]
        }
      ]
    },
    {
      "cell_type": "code",
      "source": [
        "#Write a function that takes a list and returns a new list with unique items of the first list. Sample List: [1,2,3,3,3,3,4,5] Unique List: [1, 2, 3, 4, 5]\n",
        "\n",
        "def unique_list(lst):\n",
        "    unique_set = set()\n",
        "    unique_list = []\n",
        "    for element in lst:\n",
        "        if element not in unique_set:\n",
        "            unique_set.add(element)\n",
        "            unique_list.append(element)\n",
        "    return unique_list\n",
        "\n",
        "sample_list = [1, 2, 3, 3, 3, 3, 4, 5]\n",
        "unique_list = unique_list(sample_list)\n",
        "print(unique_list)"
      ],
      "metadata": {
        "colab": {
          "base_uri": "https://localhost:8080/"
        },
        "id": "CWxYr7SjAhrR",
        "outputId": "5e12742b-9bd2-4ee8-8492-6024a0df2e07"
      },
      "execution_count": 7,
      "outputs": [
        {
          "output_type": "stream",
          "name": "stdout",
          "text": [
            "[1, 2, 3, 4, 5]\n"
          ]
        }
      ]
    },
    {
      "cell_type": "code",
      "source": [
        "#Write a function that accepts a string and calculate the number of upper-case letters and lower-case letters. Input String: 'The quick Brow Fox' Expected Output: No. of Upper-case characters: 3 No. of Lower-case Characters: 12\n",
        "\n",
        "def count_case(s):\n",
        "    upper_count = 0\n",
        "    lower_count = 0\n",
        "    for char in s:\n",
        "        if char.isupper():\n",
        "            upper_count += 1\n",
        "        elif char.islower():\n",
        "            lower_count += 1\n",
        "    print(f\"No. of Upper-case characters: {upper_count}\")\n",
        "    print(f\"No. of Lower-case Characters: {lower_count}\")\n",
        "\n",
        "input_string = 'The quick Brow Fox'\n",
        "count_case(input_string)"
      ],
      "metadata": {
        "colab": {
          "base_uri": "https://localhost:8080/"
        },
        "id": "aq81TDQFAowe",
        "outputId": "cf3f7da8-e06d-4335-8977-efb0f17f0de2"
      },
      "execution_count": 8,
      "outputs": [
        {
          "output_type": "stream",
          "name": "stdout",
          "text": [
            "No. of Upper-case characters: 3\n",
            "No. of Lower-case Characters: 12\n"
          ]
        }
      ]
    }
  ]
}